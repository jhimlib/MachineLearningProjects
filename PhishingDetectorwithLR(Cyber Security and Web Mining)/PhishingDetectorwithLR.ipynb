{
 "cells": [
  {
   "cell_type": "markdown",
   "metadata": {},
   "source": [
    "### Analysis Tasks to be performed:\n",
    "1. Write the code for a binary classification model (phishing website or not) using Python Scikit-Learn that trains on the data and calculates the accuracy score on the test data.\n",
    "2. Use one or more of the classification algorithms to train a model on the phishing website dataset."
   ]
  },
  {
   "cell_type": "code",
   "execution_count": 100,
   "metadata": {},
   "outputs": [],
   "source": [
    "#Import Necessary Libraries:\n",
    "import pandas as pd\n",
    "import numpy as np\n",
    "\n",
    "import seaborn as sns\n",
    "sns.set(style=\"white\")\n",
    "sns.set(style=\"whitegrid\", color_codes=True)\n",
    "import matplotlib.pyplot as plt\n",
    "%matplotlib inline\n",
    "\n",
    "from sklearn.model_selection import train_test_split\n",
    "from sklearn.linear_model import LogisticRegression\n",
    "from sklearn.metrics import accuracy_score,classification_report,confusion_matrix\n",
    "\n",
    "import warnings\n",
    "warnings.filterwarnings('ignore')\n"
   ]
  },
  {
   "cell_type": "markdown",
   "metadata": {},
   "source": [
    "# 1. Load Data\n",
    "1. Read the “phishing.txt” file from the folder into the program.\n",
    "2. Print first few rows of this data."
   ]
  },
  {
   "cell_type": "code",
   "execution_count": 7,
   "metadata": {},
   "outputs": [],
   "source": [
    "df_phishing = pd.read_table('Dataset/phishing.txt', sep=',', names=( 'UsingIP', 'LongURL', 'ShortURL', 'Symbol@', 'Redirecting//',\n",
    "           'PrefixSuffix-', 'SubDomains', 'HTTPS', 'DomainRegLen', 'Favicon',\n",
    "           'NonStdPort', 'HTTPSDomainURL', 'RequestURL', 'AnchorURL',\n",
    "           'LinksInScriptTags', 'ServerFormHandler', 'InfoEmail', 'AbnormalURL',\n",
    "           'WebsiteForwarding', 'StatusBarCust', 'DisableRightClick',\n",
    "           'UsingPopupWindow', 'IframeRedirection', 'AgeofDomain',\n",
    "           'DNSRecording', 'WebsiteTraffic', 'PageRank', 'GoogleIndex',\n",
    "           'LinksPointingToPage', 'StatsReport', 'class'))"
   ]
  },
  {
   "cell_type": "code",
   "execution_count": 8,
   "metadata": {},
   "outputs": [
    {
     "data": {
      "text/html": [
       "<div>\n",
       "<style scoped>\n",
       "    .dataframe tbody tr th:only-of-type {\n",
       "        vertical-align: middle;\n",
       "    }\n",
       "\n",
       "    .dataframe tbody tr th {\n",
       "        vertical-align: top;\n",
       "    }\n",
       "\n",
       "    .dataframe thead th {\n",
       "        text-align: right;\n",
       "    }\n",
       "</style>\n",
       "<table border=\"1\" class=\"dataframe\">\n",
       "  <thead>\n",
       "    <tr style=\"text-align: right;\">\n",
       "      <th></th>\n",
       "      <th>UsingIP</th>\n",
       "      <th>LongURL</th>\n",
       "      <th>ShortURL</th>\n",
       "      <th>Symbol@</th>\n",
       "      <th>Redirecting//</th>\n",
       "      <th>PrefixSuffix-</th>\n",
       "      <th>SubDomains</th>\n",
       "      <th>HTTPS</th>\n",
       "      <th>DomainRegLen</th>\n",
       "      <th>Favicon</th>\n",
       "      <th>...</th>\n",
       "      <th>UsingPopupWindow</th>\n",
       "      <th>IframeRedirection</th>\n",
       "      <th>AgeofDomain</th>\n",
       "      <th>DNSRecording</th>\n",
       "      <th>WebsiteTraffic</th>\n",
       "      <th>PageRank</th>\n",
       "      <th>GoogleIndex</th>\n",
       "      <th>LinksPointingToPage</th>\n",
       "      <th>StatsReport</th>\n",
       "      <th>class</th>\n",
       "    </tr>\n",
       "  </thead>\n",
       "  <tbody>\n",
       "    <tr>\n",
       "      <th>0</th>\n",
       "      <td>-1</td>\n",
       "      <td>1</td>\n",
       "      <td>1</td>\n",
       "      <td>1</td>\n",
       "      <td>-1</td>\n",
       "      <td>-1</td>\n",
       "      <td>-1</td>\n",
       "      <td>-1</td>\n",
       "      <td>-1</td>\n",
       "      <td>1</td>\n",
       "      <td>...</td>\n",
       "      <td>1</td>\n",
       "      <td>1</td>\n",
       "      <td>-1</td>\n",
       "      <td>-1</td>\n",
       "      <td>-1</td>\n",
       "      <td>-1</td>\n",
       "      <td>1</td>\n",
       "      <td>1</td>\n",
       "      <td>-1</td>\n",
       "      <td>-1</td>\n",
       "    </tr>\n",
       "    <tr>\n",
       "      <th>1</th>\n",
       "      <td>1</td>\n",
       "      <td>1</td>\n",
       "      <td>1</td>\n",
       "      <td>1</td>\n",
       "      <td>1</td>\n",
       "      <td>-1</td>\n",
       "      <td>0</td>\n",
       "      <td>1</td>\n",
       "      <td>-1</td>\n",
       "      <td>1</td>\n",
       "      <td>...</td>\n",
       "      <td>1</td>\n",
       "      <td>1</td>\n",
       "      <td>-1</td>\n",
       "      <td>-1</td>\n",
       "      <td>0</td>\n",
       "      <td>-1</td>\n",
       "      <td>1</td>\n",
       "      <td>1</td>\n",
       "      <td>1</td>\n",
       "      <td>-1</td>\n",
       "    </tr>\n",
       "    <tr>\n",
       "      <th>2</th>\n",
       "      <td>1</td>\n",
       "      <td>0</td>\n",
       "      <td>1</td>\n",
       "      <td>1</td>\n",
       "      <td>1</td>\n",
       "      <td>-1</td>\n",
       "      <td>-1</td>\n",
       "      <td>-1</td>\n",
       "      <td>-1</td>\n",
       "      <td>1</td>\n",
       "      <td>...</td>\n",
       "      <td>1</td>\n",
       "      <td>1</td>\n",
       "      <td>1</td>\n",
       "      <td>-1</td>\n",
       "      <td>1</td>\n",
       "      <td>-1</td>\n",
       "      <td>1</td>\n",
       "      <td>0</td>\n",
       "      <td>-1</td>\n",
       "      <td>-1</td>\n",
       "    </tr>\n",
       "    <tr>\n",
       "      <th>3</th>\n",
       "      <td>1</td>\n",
       "      <td>0</td>\n",
       "      <td>1</td>\n",
       "      <td>1</td>\n",
       "      <td>1</td>\n",
       "      <td>-1</td>\n",
       "      <td>-1</td>\n",
       "      <td>-1</td>\n",
       "      <td>1</td>\n",
       "      <td>1</td>\n",
       "      <td>...</td>\n",
       "      <td>1</td>\n",
       "      <td>1</td>\n",
       "      <td>-1</td>\n",
       "      <td>-1</td>\n",
       "      <td>1</td>\n",
       "      <td>-1</td>\n",
       "      <td>1</td>\n",
       "      <td>-1</td>\n",
       "      <td>1</td>\n",
       "      <td>-1</td>\n",
       "    </tr>\n",
       "    <tr>\n",
       "      <th>4</th>\n",
       "      <td>1</td>\n",
       "      <td>0</td>\n",
       "      <td>-1</td>\n",
       "      <td>1</td>\n",
       "      <td>1</td>\n",
       "      <td>-1</td>\n",
       "      <td>1</td>\n",
       "      <td>1</td>\n",
       "      <td>-1</td>\n",
       "      <td>1</td>\n",
       "      <td>...</td>\n",
       "      <td>-1</td>\n",
       "      <td>1</td>\n",
       "      <td>-1</td>\n",
       "      <td>-1</td>\n",
       "      <td>0</td>\n",
       "      <td>-1</td>\n",
       "      <td>1</td>\n",
       "      <td>1</td>\n",
       "      <td>1</td>\n",
       "      <td>1</td>\n",
       "    </tr>\n",
       "  </tbody>\n",
       "</table>\n",
       "<p>5 rows × 31 columns</p>\n",
       "</div>"
      ],
      "text/plain": [
       "   UsingIP  LongURL  ShortURL  Symbol@  Redirecting//  PrefixSuffix-  \\\n",
       "0       -1        1         1        1             -1             -1   \n",
       "1        1        1         1        1              1             -1   \n",
       "2        1        0         1        1              1             -1   \n",
       "3        1        0         1        1              1             -1   \n",
       "4        1        0        -1        1              1             -1   \n",
       "\n",
       "   SubDomains  HTTPS  DomainRegLen  Favicon  ...  UsingPopupWindow  \\\n",
       "0          -1     -1            -1        1  ...                 1   \n",
       "1           0      1            -1        1  ...                 1   \n",
       "2          -1     -1            -1        1  ...                 1   \n",
       "3          -1     -1             1        1  ...                 1   \n",
       "4           1      1            -1        1  ...                -1   \n",
       "\n",
       "   IframeRedirection  AgeofDomain  DNSRecording  WebsiteTraffic  PageRank  \\\n",
       "0                  1           -1            -1              -1        -1   \n",
       "1                  1           -1            -1               0        -1   \n",
       "2                  1            1            -1               1        -1   \n",
       "3                  1           -1            -1               1        -1   \n",
       "4                  1           -1            -1               0        -1   \n",
       "\n",
       "   GoogleIndex  LinksPointingToPage  StatsReport  class  \n",
       "0            1                    1           -1     -1  \n",
       "1            1                    1            1     -1  \n",
       "2            1                    0           -1     -1  \n",
       "3            1                   -1            1     -1  \n",
       "4            1                    1            1      1  \n",
       "\n",
       "[5 rows x 31 columns]"
      ]
     },
     "execution_count": 8,
     "metadata": {},
     "output_type": "execute_result"
    }
   ],
   "source": [
    "df_phishing.head()"
   ]
  },
  {
   "cell_type": "code",
   "execution_count": 9,
   "metadata": {},
   "outputs": [
    {
     "data": {
      "text/plain": [
       " 1    6157\n",
       "-1    4898\n",
       "Name: class, dtype: int64"
      ]
     },
     "execution_count": 9,
     "metadata": {},
     "output_type": "execute_result"
    }
   ],
   "source": [
    "df_phishing['class'].value_counts()"
   ]
  },
  {
   "cell_type": "markdown",
   "metadata": {},
   "source": [
    "The class variable has 2 unique values"
   ]
  },
  {
   "cell_type": "code",
   "execution_count": 10,
   "metadata": {},
   "outputs": [
    {
     "data": {
      "text/plain": [
       "UsingIP                0\n",
       "LongURL                0\n",
       "ShortURL               0\n",
       "Symbol@                0\n",
       "Redirecting//          0\n",
       "PrefixSuffix-          0\n",
       "SubDomains             0\n",
       "HTTPS                  0\n",
       "DomainRegLen           0\n",
       "Favicon                0\n",
       "NonStdPort             0\n",
       "HTTPSDomainURL         0\n",
       "RequestURL             0\n",
       "AnchorURL              0\n",
       "LinksInScriptTags      0\n",
       "ServerFormHandler      0\n",
       "InfoEmail              0\n",
       "AbnormalURL            0\n",
       "WebsiteForwarding      0\n",
       "StatusBarCust          0\n",
       "DisableRightClick      0\n",
       "UsingPopupWindow       0\n",
       "IframeRedirection      0\n",
       "AgeofDomain            0\n",
       "DNSRecording           0\n",
       "WebsiteTraffic         0\n",
       "PageRank               0\n",
       "GoogleIndex            0\n",
       "LinksPointingToPage    0\n",
       "StatsReport            0\n",
       "class                  0\n",
       "dtype: int64"
      ]
     },
     "execution_count": 10,
     "metadata": {},
     "output_type": "execute_result"
    }
   ],
   "source": [
    "df_phishing.isnull().sum()"
   ]
  },
  {
   "cell_type": "markdown",
   "metadata": {},
   "source": [
    "none of the varaibles has null values"
   ]
  },
  {
   "cell_type": "code",
   "execution_count": 11,
   "metadata": {},
   "outputs": [
    {
     "data": {
      "text/plain": [
       "(11055, 31)"
      ]
     },
     "execution_count": 11,
     "metadata": {},
     "output_type": "execute_result"
    }
   ],
   "source": [
    "df_phishing.shape"
   ]
  },
  {
   "cell_type": "code",
   "execution_count": 12,
   "metadata": {},
   "outputs": [
    {
     "name": "stdout",
     "output_type": "stream",
     "text": [
      "                      UsingIP   LongURL  ShortURL   Symbol@  Redirecting//  \\\n",
      "UsingIP              1.000000 -0.052411  0.403461  0.158699       0.397389   \n",
      "LongURL             -0.052411  1.000000 -0.097881 -0.075108      -0.081247   \n",
      "ShortURL             0.403461 -0.097881  1.000000  0.104447       0.842796   \n",
      "Symbol@              0.158699 -0.075108  0.104447  1.000000       0.086960   \n",
      "Redirecting//        0.397389 -0.081247  0.842796  0.086960       1.000000   \n",
      "PrefixSuffix-       -0.005257  0.055247 -0.080471 -0.011726      -0.085590   \n",
      "SubDomains          -0.080745  0.003997 -0.041916 -0.058976      -0.043079   \n",
      "HTTPS                0.071414  0.048754 -0.061426  0.031220      -0.036200   \n",
      "DomainRegLen        -0.022739 -0.221892  0.060923  0.015522       0.047464   \n",
      "Favicon              0.087025 -0.042497  0.006101  0.304899       0.035100   \n",
      "NonStdPort           0.060979  0.000323  0.002201  0.364891       0.025060   \n",
      "HTTPSDomainURL       0.363534 -0.089383  0.757838  0.104561       0.760799   \n",
      "RequestURL           0.029773  0.246348 -0.037235  0.027909      -0.026368   \n",
      "AnchorURL            0.099847 -0.023396  0.000561  0.057914      -0.005036   \n",
      "LinksInScriptTags    0.006212  0.052869 -0.133379 -0.070861      -0.125583   \n",
      "ServerFormHandler   -0.010962  0.414196 -0.022723 -0.008672      -0.041672   \n",
      "InfoEmail            0.077989 -0.014457  0.049328  0.370123       0.031898   \n",
      "AbnormalURL          0.336549 -0.106761  0.739290  0.203945       0.723724   \n",
      "WebsiteForwarding   -0.321181  0.046832 -0.534530 -0.028160      -0.591478   \n",
      "StatusBarCust        0.084059 -0.045103  0.062383  0.279697       0.086635   \n",
      "DisableRightClick    0.042881 -0.013613  0.038118  0.219503       0.025863   \n",
      "UsingPopupWindow     0.096882 -0.049381  0.036616  0.290893       0.054463   \n",
      "IframeRedirection    0.054694 -0.013838  0.016581  0.284410       0.010459   \n",
      "AgeofDomain         -0.010446  0.179426 -0.052596 -0.005499      -0.050107   \n",
      "DNSRecording        -0.050733 -0.040823  0.436064 -0.047872       0.431409   \n",
      "WebsiteTraffic       0.002922  0.008993 -0.047074  0.032918      -0.062369   \n",
      "PageRank            -0.091774  0.183518  0.014591 -0.064735      -0.003132   \n",
      "GoogleIndex          0.029153  0.002902  0.155844  0.037061       0.178415   \n",
      "LinksPointingToPage -0.339065 -0.022987 -0.198410 -0.006080      -0.194165   \n",
      "StatsReport         -0.019103 -0.067153  0.085461 -0.080357       0.070390   \n",
      "class                0.094160  0.057430 -0.067966  0.052948      -0.038608   \n",
      "\n",
      "                     PrefixSuffix-  SubDomains     HTTPS  DomainRegLen  \\\n",
      "UsingIP                  -0.005257   -0.080745  0.071414     -0.022739   \n",
      "LongURL                   0.055247    0.003997  0.048754     -0.221892   \n",
      "ShortURL                 -0.080471   -0.041916 -0.061426      0.060923   \n",
      "Symbol@                  -0.011726   -0.058976  0.031220      0.015522   \n",
      "Redirecting//            -0.085590   -0.043079 -0.036200      0.047464   \n",
      "PrefixSuffix-             1.000000    0.087891  0.261391     -0.096799   \n",
      "SubDomains                0.087891    1.000000  0.267649     -0.082839   \n",
      "HTTPS                     0.261391    0.267649  1.000000     -0.193622   \n",
      "DomainRegLen             -0.096799   -0.082839 -0.193622      1.000000   \n",
      "Favicon                  -0.007504   -0.016704 -0.014757      0.054253   \n",
      "NonStdPort               -0.022546    0.004863  0.027473      0.022478   \n",
      "HTTPSDomainURL           -0.070153   -0.037239 -0.029941      0.059161   \n",
      "RequestURL                0.098675    0.104857  0.193054     -0.609970   \n",
      "AnchorURL                 0.348871    0.229491  0.535786     -0.160257   \n",
      "LinksInScriptTags         0.100254    0.093646  0.176825     -0.101084   \n",
      "ServerFormHandler         0.001326    0.096089  0.171402     -0.136422   \n",
      "InfoEmail                -0.045000    0.008830  0.008062      0.039260   \n",
      "AbnormalURL              -0.077620   -0.034908 -0.046245      0.058109   \n",
      "WebsiteForwarding         0.016271    0.031206 -0.021070     -0.016300   \n",
      "StatusBarCust             0.012578   -0.018082  0.023586      0.023784   \n",
      "DisableRightClick        -0.024868    0.018230  0.015854      0.023520   \n",
      "UsingPopupWindow         -0.014733   -0.025312 -0.013005      0.051410   \n",
      "IframeRedirection        -0.036904    0.010637 -0.002773      0.004393   \n",
      "AgeofDomain               0.074116    0.119254  0.162809     -0.062851   \n",
      "DNSRecording             -0.016556    0.125493  0.050972     -0.010477   \n",
      "WebsiteTraffic            0.110598   -0.005764  0.258768     -0.134454   \n",
      "PageRank                 -0.006834    0.120730  0.074545     -0.059898   \n",
      "GoogleIndex               0.067781    0.057673  0.096051     -0.039766   \n",
      "LinksPointingToPage       0.067423   -0.010526 -0.011710      0.122672   \n",
      "StatsReport              -0.002763    0.081627  0.063411     -0.002212   \n",
      "class                     0.348606    0.298323  0.714741     -0.225789   \n",
      "\n",
      "                      Favicon  ...  UsingPopupWindow  IframeRedirection  \\\n",
      "UsingIP              0.087025  ...          0.096882           0.054694   \n",
      "LongURL             -0.042497  ...         -0.049381          -0.013838   \n",
      "ShortURL             0.006101  ...          0.036616           0.016581   \n",
      "Symbol@              0.304899  ...          0.290893           0.284410   \n",
      "Redirecting//        0.035100  ...          0.054463           0.010459   \n",
      "PrefixSuffix-       -0.007504  ...         -0.014733          -0.036904   \n",
      "SubDomains          -0.016704  ...         -0.025312           0.010637   \n",
      "HTTPS               -0.014757  ...         -0.013005          -0.002773   \n",
      "DomainRegLen         0.054253  ...          0.051410           0.004393   \n",
      "Favicon              1.000000  ...          0.939633           0.627607   \n",
      "NonStdPort           0.803834  ...          0.748517           0.687044   \n",
      "HTTPSDomainURL       0.049483  ...          0.066957           0.017509   \n",
      "RequestURL          -0.004620  ...         -0.004622           0.016934   \n",
      "AnchorURL            0.037698  ...          0.041150           0.013403   \n",
      "LinksInScriptTags   -0.100341  ...         -0.112282          -0.070030   \n",
      "ServerFormHandler   -0.012279  ...         -0.004863           0.007067   \n",
      "InfoEmail            0.668317  ...          0.629462           0.577490   \n",
      "AbnormalURL          0.071848  ...          0.091188           0.017590   \n",
      "WebsiteForwarding   -0.015621  ...         -0.026327          -0.012668   \n",
      "StatusBarCust        0.706179  ...          0.733629           0.659478   \n",
      "DisableRightClick    0.414382  ...          0.415268           0.655863   \n",
      "UsingPopupWindow     0.939633  ...          1.000000           0.629406   \n",
      "IframeRedirection    0.627607  ...          0.629406           1.000000   \n",
      "AgeofDomain         -0.002628  ...         -0.000948           0.018848   \n",
      "DNSRecording         0.088211  ...          0.098658           0.047293   \n",
      "WebsiteTraffic      -0.050922  ...         -0.043190          -0.022080   \n",
      "PageRank             0.011699  ...          0.017114           0.022407   \n",
      "GoogleIndex         -0.016668  ...         -0.010256          -0.003519   \n",
      "LinksPointingToPage -0.127243  ...         -0.121325          -0.140824   \n",
      "StatsReport          0.300917  ...          0.285261           0.268418   \n",
      "class               -0.000280  ...          0.000086          -0.003394   \n",
      "\n",
      "                     AgeofDomain  DNSRecording  WebsiteTraffic  PageRank  \\\n",
      "UsingIP                -0.010446     -0.050733        0.002922 -0.091774   \n",
      "LongURL                 0.179426     -0.040823        0.008993  0.183518   \n",
      "ShortURL               -0.052596      0.436064       -0.047074  0.014591   \n",
      "Symbol@                -0.005499     -0.047872        0.032918 -0.064735   \n",
      "Redirecting//          -0.050107      0.431409       -0.062369 -0.003132   \n",
      "PrefixSuffix-           0.074116     -0.016556        0.110598 -0.006834   \n",
      "SubDomains              0.119254      0.125493       -0.005764  0.120730   \n",
      "HTTPS                   0.162809      0.050972        0.258768  0.074545   \n",
      "DomainRegLen           -0.062851     -0.010477       -0.134454 -0.059898   \n",
      "Favicon                -0.002628      0.088211       -0.050922  0.011699   \n",
      "NonStdPort              0.008459      0.054849       -0.028543  0.017954   \n",
      "HTTPSDomainURL         -0.049632      0.395387       -0.039708  0.021104   \n",
      "RequestURL              0.090455      0.015933        0.161166  0.055734   \n",
      "AnchorURL               0.075508      0.093288        0.326293  0.099261   \n",
      "LinksInScriptTags       0.078057     -0.038545        0.064548 -0.006450   \n",
      "ServerFormHandler      -0.015840      0.034440        0.052706  0.001979   \n",
      "InfoEmail               0.007357      0.064145       -0.015685  0.026208   \n",
      "AbnormalURL            -0.032533      0.366833       -0.052416  0.007318   \n",
      "WebsiteForwarding      -0.022476     -0.211096        0.004631  0.052867   \n",
      "StatusBarCust           0.013306      0.087161       -0.036531  0.015634   \n",
      "DisableRightClick       0.006764      0.038255       -0.013594  0.025341   \n",
      "UsingPopupWindow       -0.000948      0.098658       -0.043190  0.017114   \n",
      "IframeRedirection       0.018848      0.047293       -0.022080  0.022407   \n",
      "AgeofDomain             1.000000     -0.034082        0.089949 -0.147194   \n",
      "DNSRecording           -0.034082      1.000000        0.048650  0.137860   \n",
      "WebsiteTraffic          0.089949      0.048650        1.000000  0.030984   \n",
      "PageRank               -0.147194      0.137860        0.030984  1.000000   \n",
      "GoogleIndex            -0.028471      0.137509       -0.012584  0.032431   \n",
      "LinksPointingToPage     0.040407     -0.318266       -0.019860 -0.028216   \n",
      "StatsReport             0.009115      0.136860        0.009223  0.031049   \n",
      "class                   0.121496      0.075718        0.346103  0.104645   \n",
      "\n",
      "                     GoogleIndex  LinksPointingToPage  StatsReport     class  \n",
      "UsingIP                 0.029153            -0.339065    -0.019103  0.094160  \n",
      "LongURL                 0.002902            -0.022987    -0.067153  0.057430  \n",
      "ShortURL                0.155844            -0.198410     0.085461 -0.067966  \n",
      "Symbol@                 0.037061            -0.006080    -0.080357  0.052948  \n",
      "Redirecting//           0.178415            -0.194165     0.070390 -0.038608  \n",
      "PrefixSuffix-           0.067781             0.067423    -0.002763  0.348606  \n",
      "SubDomains              0.057673            -0.010526     0.081627  0.298323  \n",
      "HTTPS                   0.096051            -0.011710     0.063411  0.714741  \n",
      "DomainRegLen           -0.039766             0.122672    -0.002212 -0.225789  \n",
      "Favicon                -0.016668            -0.127243     0.300917 -0.000280  \n",
      "NonStdPort             -0.005413            -0.139104     0.343987  0.036419  \n",
      "HTTPSDomainURL          0.115450            -0.128724     0.096187 -0.039854  \n",
      "RequestURL              0.046409            -0.067109     0.035412  0.253372  \n",
      "AnchorURL               0.038816             0.018651     0.077377  0.692935  \n",
      "LinksInScriptTags       0.045557             0.013561    -0.087343  0.248229  \n",
      "ServerFormHandler       0.027588            -0.009068    -0.005289  0.221419  \n",
      "InfoEmail              -0.008378            -0.039956     0.352074  0.018249  \n",
      "AbnormalURL             0.124751            -0.161027     0.186399 -0.060488  \n",
      "WebsiteForwarding       0.057230             0.161278    -0.059194 -0.020113  \n",
      "StatusBarCust          -0.006510            -0.038551     0.277347  0.041838  \n",
      "DisableRightClick      -0.008066            -0.119831     0.204409  0.012653  \n",
      "UsingPopupWindow       -0.010256            -0.121325     0.285261  0.000086  \n",
      "IframeRedirection      -0.003519            -0.140824     0.268418 -0.003394  \n",
      "AgeofDomain            -0.028471             0.040407     0.009115  0.121496  \n",
      "DNSRecording            0.137509            -0.318266     0.136860  0.075718  \n",
      "WebsiteTraffic         -0.012584            -0.019860     0.009223  0.346103  \n",
      "PageRank                0.032431            -0.028216     0.031049  0.104645  \n",
      "GoogleIndex             1.000000            -0.038777    -0.005103  0.128950  \n",
      "LinksPointingToPage    -0.038777             1.000000    -0.016817  0.032574  \n",
      "StatsReport            -0.005103            -0.016817     1.000000  0.079857  \n",
      "class                   0.128950             0.032574     0.079857  1.000000  \n",
      "\n",
      "[31 rows x 31 columns]\n"
     ]
    },
    {
     "data": {
      "text/plain": [
       "<matplotlib.axes._subplots.AxesSubplot at 0x2a9fada7ac8>"
      ]
     },
     "execution_count": 12,
     "metadata": {},
     "output_type": "execute_result"
    },
    {
     "data": {
      "image/png": "[encoded data removed]",
      "text/plain": [
       "<Figure size 1080x720 with 2 Axes>"
      ]
     },
     "metadata": {
      "needs_background": "light"
     },
     "output_type": "display_data"
    }
   ],
   "source": [
    "#Find if variables are coorealated\n",
    "#plt.figure(figsize=(15,10))\n",
    "#sns.heatmap(df_phishing.corr())\n",
    "#find correlation of every pair of feature with the target variable\n",
    "corr = df_phishing.corr()\n",
    "print(corr)\n",
    "plt.figure(figsize=(15,10))\n",
    "sns.heatmap(corr, \n",
    "        xticklabels=corr.columns,\n",
    "        yticklabels=corr.columns)"
   ]
  },
  {
   "cell_type": "markdown",
   "metadata": {},
   "source": [
    "# 2. Extract X and Y data : \n",
    "Extract input (X) and output (Y) data from the dataset."
   ]
  },
  {
   "cell_type": "code",
   "execution_count": 13,
   "metadata": {},
   "outputs": [
    {
     "data": {
      "text/plain": [
       "Index(['UsingIP', 'LongURL', 'ShortURL', 'Symbol@', 'Redirecting//',\n",
       "       'PrefixSuffix-', 'SubDomains', 'HTTPS', 'DomainRegLen', 'Favicon',\n",
       "       'NonStdPort', 'HTTPSDomainURL', 'RequestURL', 'AnchorURL',\n",
       "       'LinksInScriptTags', 'ServerFormHandler', 'InfoEmail', 'AbnormalURL',\n",
       "       'WebsiteForwarding', 'StatusBarCust', 'DisableRightClick',\n",
       "       'UsingPopupWindow', 'IframeRedirection', 'AgeofDomain', 'DNSRecording',\n",
       "       'WebsiteTraffic', 'PageRank', 'GoogleIndex', 'LinksPointingToPage',\n",
       "       'StatsReport', 'class'],\n",
       "      dtype='object')"
      ]
     },
     "execution_count": 13,
     "metadata": {},
     "output_type": "execute_result"
    }
   ],
   "source": [
    "df_phishing.columns"
   ]
  },
  {
   "cell_type": "code",
   "execution_count": 14,
   "metadata": {},
   "outputs": [
    {
     "name": "stdout",
     "output_type": "stream",
     "text": [
      "<class 'pandas.core.frame.DataFrame'>\n",
      "<class 'pandas.core.series.Series'>\n"
     ]
    }
   ],
   "source": [
    "X_Features=['UsingIP', 'LongURL', 'ShortURL', 'Symbol@', 'Redirecting//',\n",
    "       'PrefixSuffix-', 'SubDomains', 'HTTPS', 'DomainRegLen', 'Favicon',\n",
    "       'NonStdPort', 'HTTPSDomainURL', 'RequestURL', 'AnchorURL',\n",
    "       'LinksInScriptTags', 'ServerFormHandler', 'InfoEmail', 'AbnormalURL',\n",
    "       'WebsiteForwarding', 'StatusBarCust', 'DisableRightClick',\n",
    "       'UsingPopupWindow', 'IframeRedirection', 'AgeofDomain', 'DNSRecording',\n",
    "       'WebsiteTraffic', 'PageRank', 'GoogleIndex', 'LinksPointingToPage',\n",
    "       'StatsReport']\n",
    "X=df_phishing[X_Features]\n",
    "Y=df_phishing['class']\n",
    "\n",
    "print(type(X))\n",
    "print(type(Y))"
   ]
  },
  {
   "cell_type": "markdown",
   "metadata": {},
   "source": [
    "# 3. Split the dataset : \n",
    "Use 70% of data as training data and the remaining 30% as test data. "
   ]
  },
  {
   "cell_type": "code",
   "execution_count": 15,
   "metadata": {},
   "outputs": [
    {
     "name": "stdout",
     "output_type": "stream",
     "text": [
      "(7738, 30) (7738,)\n",
      "(3317, 30) (3317,)\n"
     ]
    }
   ],
   "source": [
    "x_train,x_test,y_train,y_test=train_test_split(X,Y,test_size=0.3,random_state=1)\n",
    "\n",
    "print (x_train.shape, y_train.shape)\n",
    "print (x_test.shape, y_test.shape)"
   ]
  },
  {
   "cell_type": "markdown",
   "metadata": {},
   "source": [
    "## 4. Perform Logistic Regression : \n",
    "1. Build a phishing website classifier using Logistic Regression with “C” parameter = 100. \n",
    "2. Print count of misclassified samples in the test data prediction as well as the accuracy score of the model. "
   ]
  },
  {
   "cell_type": "code",
   "execution_count": 16,
   "metadata": {},
   "outputs": [
    {
     "data": {
      "text/plain": [
       "LogisticRegression(C=100, class_weight=None, dual=False, fit_intercept=True,\n",
       "                   intercept_scaling=1, l1_ratio=None, max_iter=100,\n",
       "                   multi_class='warn', n_jobs=None, penalty='l2',\n",
       "                   random_state=None, solver='warn', tol=0.0001, verbose=0,\n",
       "                   warm_start=False)"
      ]
     },
     "execution_count": 16,
     "metadata": {},
     "output_type": "execute_result"
    }
   ],
   "source": [
    "logreg=LogisticRegression(C=100)\n",
    "logreg.fit(x_train,y_train)"
   ]
  },
  {
   "cell_type": "code",
   "execution_count": 17,
   "metadata": {},
   "outputs": [],
   "source": [
    "y_predict=logreg.predict(x_test)"
   ]
  },
  {
   "cell_type": "code",
   "execution_count": 18,
   "metadata": {},
   "outputs": [
    {
     "name": "stdout",
     "output_type": "stream",
     "text": [
      "0.9258365993367501\n"
     ]
    }
   ],
   "source": [
    "print(accuracy_score(y_test,y_predict))"
   ]
  },
  {
   "cell_type": "code",
   "execution_count": 19,
   "metadata": {},
   "outputs": [
    {
     "name": "stdout",
     "output_type": "stream",
     "text": [
      "              precision    recall  f1-score   support\n",
      "\n",
      "          -1       0.93      0.90      0.92      1490\n",
      "           1       0.92      0.95      0.93      1827\n",
      "\n",
      "    accuracy                           0.93      3317\n",
      "   macro avg       0.93      0.92      0.92      3317\n",
      "weighted avg       0.93      0.93      0.93      3317\n",
      "\n"
     ]
    }
   ],
   "source": [
    "print(classification_report(y_test,y_predict))"
   ]
  },
  {
   "cell_type": "code",
   "execution_count": 20,
   "metadata": {},
   "outputs": [
    {
     "name": "stdout",
     "output_type": "stream",
     "text": [
      "[[1343  147]\n",
      " [  99 1728]]\n"
     ]
    }
   ],
   "source": [
    "print(confusion_matrix(y_test,y_predict))"
   ]
  },
  {
   "cell_type": "code",
   "execution_count": 21,
   "metadata": {},
   "outputs": [
    {
     "data": {
      "text/plain": [
       " 1    1827\n",
       "-1    1490\n",
       "Name: class, dtype: int64"
      ]
     },
     "execution_count": 21,
     "metadata": {},
     "output_type": "execute_result"
    }
   ],
   "source": [
    "y_test.value_counts()"
   ]
  },
  {
   "cell_type": "markdown",
   "metadata": {},
   "source": [
    "### Insight:\n",
    "\n",
    "    Based on the confusion matrix:\n",
    "    -1: out of the total 1490 class 1, the algorithm correctly predicted 1343\n",
    "     1: out of the total 1827 class 2, the algorithm correctly predicted 1728\n",
    "    \n",
    "     Total Misclassified samples are:246\n",
    "     \n",
    "    Based on the Accuracy score:\n",
    "    The algorithm has an accuracy of 93%: out of 100 passangers , the algorithm predicts 93% correctly"
   ]
  },
  {
   "cell_type": "markdown",
   "metadata": {},
   "source": [
    "## 5. Perform Logistic Regression with 2 variables: \n",
    "1. Train with only two input parameters - parameter Prefix_Suffix and 13 URL_of_Anchor.\n",
    "2. Check accuracy using the test data and compare the accuracy with the previous value.\n",
    "3. Plot the test samples along with the decision boundary when trained with index 5 and index 13 parameters."
   ]
  },
  {
   "cell_type": "code",
   "execution_count": 97,
   "metadata": {},
   "outputs": [
    {
     "name": "stdout",
     "output_type": "stream",
     "text": [
      "<class 'pandas.core.frame.DataFrame'>\n",
      "<class 'pandas.core.series.Series'>\n",
      "(11055, 2)\n",
      "(11055,)\n"
     ]
    },
    {
     "data": {
      "text/html": [
       "<div>\n",
       "<style scoped>\n",
       "    .dataframe tbody tr th:only-of-type {\n",
       "        vertical-align: middle;\n",
       "    }\n",
       "\n",
       "    .dataframe tbody tr th {\n",
       "        vertical-align: top;\n",
       "    }\n",
       "\n",
       "    .dataframe thead th {\n",
       "        text-align: right;\n",
       "    }\n",
       "</style>\n",
       "<table border=\"1\" class=\"dataframe\">\n",
       "  <thead>\n",
       "    <tr style=\"text-align: right;\">\n",
       "      <th></th>\n",
       "      <th>PrefixSuffix-</th>\n",
       "      <th>AnchorURL</th>\n",
       "      <th>class</th>\n",
       "    </tr>\n",
       "  </thead>\n",
       "  <tbody>\n",
       "    <tr>\n",
       "      <th>0</th>\n",
       "      <td>-1</td>\n",
       "      <td>-1</td>\n",
       "      <td>-1</td>\n",
       "    </tr>\n",
       "    <tr>\n",
       "      <th>1</th>\n",
       "      <td>-1</td>\n",
       "      <td>0</td>\n",
       "      <td>-1</td>\n",
       "    </tr>\n",
       "    <tr>\n",
       "      <th>2</th>\n",
       "      <td>-1</td>\n",
       "      <td>0</td>\n",
       "      <td>-1</td>\n",
       "    </tr>\n",
       "    <tr>\n",
       "      <th>3</th>\n",
       "      <td>-1</td>\n",
       "      <td>0</td>\n",
       "      <td>-1</td>\n",
       "    </tr>\n",
       "    <tr>\n",
       "      <th>4</th>\n",
       "      <td>-1</td>\n",
       "      <td>0</td>\n",
       "      <td>1</td>\n",
       "    </tr>\n",
       "  </tbody>\n",
       "</table>\n",
       "</div>"
      ],
      "text/plain": [
       "   PrefixSuffix-  AnchorURL  class\n",
       "0             -1         -1     -1\n",
       "1             -1          0     -1\n",
       "2             -1          0     -1\n",
       "3             -1          0     -1\n",
       "4             -1          0      1"
      ]
     },
     "execution_count": 97,
     "metadata": {},
     "output_type": "execute_result"
    }
   ],
   "source": [
    "df_phishing2 =  df_phishing[['PrefixSuffix-','AnchorURL','class']]\n",
    "\n",
    "X_2Features=['PrefixSuffix-', 'AnchorURL']\n",
    "X2=df_phishing2[X_2Features]\n",
    "Y2=df_phishing2['class']\n",
    "\n",
    "print(type(X2))\n",
    "print(type(Y2))\n",
    "print(X2.shape)\n",
    "print(Y2.shape)\n",
    "df_phishing2.head()"
   ]
  },
  {
   "cell_type": "code",
   "execution_count": 167,
   "metadata": {},
   "outputs": [
    {
     "name": "stdout",
     "output_type": "stream",
     "text": [
      "(6157, 3)\n",
      "(4898, 3)\n"
     ]
    },
    {
     "data": {
      "image/png": "[encoded data removed]",
      "text/plain": [
       "<Figure size 864x432 with 1 Axes>"
      ]
     },
     "metadata": {
      "needs_background": "light"
     },
     "output_type": "display_data"
    }
   ],
   "source": [
    "# filter out the phishing websites\n",
    "phishing = df_phishing2.loc[Y2 == 1]\n",
    "print(phishing.shape)\n",
    "phishing.head(2)\n",
    "\n",
    "# filter out the non phishing websites\n",
    "not_phishing = df_phishing2.loc[Y2 == -1]\n",
    "print(not_phishing.shape)\n",
    "\n",
    "# plots\n",
    "plt.figure(figsize=(12, 6))\n",
    "\n",
    "plt.scatter(phishing.iloc[:, 0],     phishing.iloc[:, 1],     c='c', s=20, label='Phishing')\n",
    "plt.scatter(not_phishing.iloc[:, 0], not_phishing.iloc[:, 1], c='r', s=20, label='Not Phishing')\n",
    "\n",
    "plt.legend();"
   ]
  },
  {
   "cell_type": "code",
   "execution_count": 156,
   "metadata": {},
   "outputs": [
    {
     "name": "stdout",
     "output_type": "stream",
     "text": [
      "(7738, 2) (7738,)\n",
      "(3317, 2) (3317,)\n"
     ]
    }
   ],
   "source": [
    "#split the data into train and test sets\n",
    "x2_train,x2_test,y2_train,y2_test=train_test_split(X2,Y2,test_size=0.3,random_state=1)\n",
    "\n",
    "print (x2_train.shape, y2_train.shape)\n",
    "print (x2_test.shape, y2_test.shape)"
   ]
  },
  {
   "cell_type": "code",
   "execution_count": 157,
   "metadata": {},
   "outputs": [
    {
     "data": {
      "text/plain": [
       "LogisticRegression(C=100, class_weight=None, dual=False, fit_intercept=True,\n",
       "                   intercept_scaling=1, l1_ratio=None, max_iter=100,\n",
       "                   multi_class='warn', n_jobs=None, penalty='l2',\n",
       "                   random_state=None, solver='warn', tol=0.0001, verbose=0,\n",
       "                   warm_start=False)"
      ]
     },
     "execution_count": 157,
     "metadata": {},
     "output_type": "execute_result"
    }
   ],
   "source": [
    "logreg2=LogisticRegression(C=100)\n",
    "logreg2.fit(x2_train,y2_train)\n"
   ]
  },
  {
   "cell_type": "code",
   "execution_count": 158,
   "metadata": {},
   "outputs": [],
   "source": [
    "y2_predict=logreg2.predict(x2_test)"
   ]
  },
  {
   "cell_type": "code",
   "execution_count": 159,
   "metadata": {},
   "outputs": [
    {
     "name": "stdout",
     "output_type": "stream",
     "text": [
      "0.8501658124811576\n",
      "              precision    recall  f1-score   support\n",
      "\n",
      "          -1       1.00      0.67      0.80      1490\n",
      "           1       0.79      1.00      0.88      1827\n",
      "\n",
      "    accuracy                           0.85      3317\n",
      "   macro avg       0.89      0.83      0.84      3317\n",
      "weighted avg       0.88      0.85      0.84      3317\n",
      "\n",
      "[[ 996  494]\n",
      " [   3 1824]]\n"
     ]
    }
   ],
   "source": [
    "print(accuracy_score(y2_test,y2_predict))\n",
    "print(classification_report(y2_test,y2_predict))\n",
    "print(confusion_matrix(y2_test,y2_predict))"
   ]
  },
  {
   "cell_type": "code",
   "execution_count": 160,
   "metadata": {},
   "outputs": [
    {
     "data": {
      "text/plain": [
       " 1    1827\n",
       "-1    1490\n",
       "Name: class, dtype: int64"
      ]
     },
     "execution_count": 160,
     "metadata": {},
     "output_type": "execute_result"
    }
   ],
   "source": [
    "y2_test.value_counts()"
   ]
  },
  {
   "cell_type": "markdown",
   "metadata": {},
   "source": [
    "### Insight:\n",
    "\n",
    "    Based on the confusion matrix:\n",
    "    -1: out of the total 1490 class 1, the algorithm correctly predicted 996\n",
    "     1: out of the total 1827 class 2, the algorithm correctly predicted 1824\n",
    "    \n",
    "     Total Misclassified samples are:497\n",
    "     \n",
    "    Based on the Accuracy score:\n",
    "    The algorithm has an accuracy of 85%: out of 100 passangers , the algorithm predicts 85% correctly\n",
    "    \n",
    "#### Conclusion: The model using all the parameters as predictors has better accuracy than the one using just 2 parameters."
   ]
  },
  {
   "cell_type": "markdown",
   "metadata": {},
   "source": [
    "### Plot Decission Boundary Graph"
   ]
  },
  {
   "cell_type": "code",
   "execution_count": 162,
   "metadata": {},
   "outputs": [],
   "source": [
    "# create a mesh to plot in\n",
    "\n",
    "# step size in the mesh\n",
    "h = .02  \n",
    "\n",
    "x_min, x_max = x2_test.iloc[:, 0].min() - 1, x2_test.iloc[:, 0].max() + 1\n",
    "y_min, y_max = x2_test.iloc[:, 1].min() - 1, x2_test.iloc[:, 1].max() + 1"
   ]
  },
  {
   "cell_type": "code",
   "execution_count": 163,
   "metadata": {},
   "outputs": [],
   "source": [
    "# build the mesh grid points\n",
    "xx, yy = np.meshgrid(np.arange(x_min, x_max, h),\n",
    "                     np.arange(y_min, y_max, h))"
   ]
  },
  {
   "cell_type": "code",
   "execution_count": 191,
   "metadata": {},
   "outputs": [
    {
     "name": "stdout",
     "output_type": "stream",
     "text": [
      "(40000,)\n"
     ]
    },
    {
     "data": {
      "image/png": "[encoded data removed]",
      "text/plain": [
       "<Figure size 864x432 with 1 Axes>"
      ]
     },
     "metadata": {
      "needs_background": "light"
     },
     "output_type": "display_data"
    }
   ],
   "source": [
    "plt.figure(1, figsize=(12, 6))\n",
    "plt.title(\"Decision surface of LogisticRegression (%s)\" % 'auto')\n",
    "   \n",
    "y_pred = logreg2.predict(np.c_[xx.ravel(), yy.ravel()])\n",
    "print(y_pred.shape)\n",
    "# Put the result into a color plot\n",
    "y_pred = y_pred.reshape(xx.shape)\n",
    "\n",
    "#plt.pcolormesh(xx, yy, Z, cmap=plt.cm.Paired);\n",
    "plt.contourf(xx, yy, y_pred, cmap=plt.cm.Paired);\n",
    "\n",
    "# Plot also the training points\n",
    "# plt.scatter(X[:, 0], X[:, 1], c=y, edgecolors='k')\n",
    "\n",
    "# filter out the phishing websites\n",
    "phishing = x2_test.loc[y2_test == 1]\n",
    "#phishing = df_phishing2.loc[Y2 == 1]\n",
    "\n",
    "# filter out the non phishing websites\n",
    "not_phishing = x2_test.loc[y2_test == -1]\n",
    "#not_phishing = df_phishing2.loc[Y2 == -1]\n",
    "\n",
    "plt.scatter(phishing.iloc[:, 0],     phishing.iloc[:, 1],     c='c', s=20, label='phishing')\n",
    "plt.scatter(not_phishing.iloc[:, 0], not_phishing.iloc[:, 1], c='k', s=20, label='Not phishing')\n",
    "\n",
    "plt.legend()\n",
    "\n",
    "plt.xlabel('X1')\n",
    "plt.ylabel('X2')\n",
    "\n",
    "\n",
    "plt.xticks()\n",
    "plt.yticks();"
   ]
  },
  {
   "cell_type": "code",
   "execution_count": 195,
   "metadata": {},
   "outputs": [
    {
     "name": "stdout",
     "output_type": "stream",
     "text": [
      "[-1  0  1]\n",
      "[-1  1]\n"
     ]
    }
   ],
   "source": [
    "print(df_phishing2.AnchorURL.unique())\n",
    "print(df_phishing2['PrefixSuffix-'].unique())"
   ]
  }
 ],
 "metadata": {
  "kernelspec": {
   "display_name": "Python 3",
   "language": "python",
   "name": "python3"
  },
  "language_info": {
   "codemirror_mode": {
    "name": "ipython",
    "version": 3
   },
   "file_extension": ".py",
   "mimetype": "text/x-python",
   "name": "python",
   "nbconvert_exporter": "python",
   "pygments_lexer": "ipython3",
   "version": "3.7.3"
  }
 },
 "nbformat": 4,
 "nbformat_minor": 2
}
