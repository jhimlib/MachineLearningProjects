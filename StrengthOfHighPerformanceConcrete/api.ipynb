{
 "cells": [
  {
   "cell_type": "markdown",
   "metadata": {
    "pycharm": {
     "is_executing": false
    }
   },
   "source": [
    "## Predict strength of Concrete\n",
    "A prototype API for predicting high performance concrete."
   ]
  },
  {
   "cell_type": "code",
   "execution_count": 1,
   "metadata": {},
   "outputs": [],
   "source": [
    "#Import necessary libraries\n",
    "import flask\n",
    "from flask import Flask, render_template, request,jsonify\n",
    "import pickle\n",
    "import numpy as np\n",
    "from scipy import misc\n",
    "import os\n",
    "import pandas as pd"
   ]
  },
  {
   "cell_type": "code",
   "execution_count": 2,
   "metadata": {
    "pycharm": {
     "is_executing": false
    }
   },
   "outputs": [],
   "source": [
    "#define routes\n",
    "app = Flask(__name__)\n",
    "\n",
    "@app.route('/', methods=['GET'])\n",
    "def home():\n",
    "    return '''<h1>Predict strength of Concrete</h1>\n",
    "<p>A prototype API for predicting high performance concrete.</p>'''\n",
    "\n",
    "@app.route('/predict', methods=['POST'])\n",
    "def apicall():\n",
    "    \"\"\"API Call\n",
    "    Pandas dataframe (sent as a payload) from API Call\n",
    "    \"\"\"\n",
    "    try:\n",
    "        test_json = request.get_json()\n",
    "        test = pd.read_json(test_json, orient='records')\n",
    "\n",
    "        #To resolve the issue of TypeError: Cannot compare types 'ndarray(dtype=int64)' and 'str'\n",
    "        #test['Dependents'] = [str(x) for x in list(test['Dependents'])]\n",
    "\n",
    "        #Getting the Loan_IDs separated out\n",
    "        cement = test['cement']\n",
    "\n",
    "    except Exception as e:\n",
    "        raise e\n",
    "\n",
    "    clf = 'finalized_model.pkl'\n",
    "\n",
    "    if test.empty:\n",
    "        return(bad_request())\n",
    "    else:\n",
    "        #Load the saved model\n",
    "        print(\"Loading the model...\")\n",
    "        loaded_model = None\n",
    "        \"\"\"\n",
    "        with open('./models/'+clf,'rb') as f:\n",
    "            loaded_model = pickle.load(f)\n",
    "        \"\"\"\n",
    "        loaded_model = pickle.load(open(filename, 'rb'))\n",
    "        print(\"The model has been loaded...doing predictions now...\")\n",
    "        predictions = loaded_model.predict(test)\n",
    "\n",
    "        \"\"\"Add the predictions as Series to a new pandas dataframe\n",
    "                                OR\n",
    "           Depending on the use-case, the entire test data appended with the new files\n",
    "        \"\"\"\n",
    "        prediction_series = list(pd.Series(predictions))\n",
    "\n",
    "        final_predictions = pd.DataFrame(list(zip(cement, prediction_series)))\n",
    "\n",
    "        \"\"\"We can be as creative in sending the responses.\n",
    "           But we need to send the response codes as well.\n",
    "        \"\"\"\n",
    "        responses = jsonify(predictions=final_predictions.to_json(orient=\"records\"))\n",
    "        responses.status_code = 200\n",
    "\n",
    "        return (responses)"
   ]
  },
  {
   "cell_type": "code",
   "execution_count": null,
   "metadata": {
    "pycharm": {
     "is_executing": true
    }
   },
   "outputs": [
    {
     "name": "stdout",
     "output_type": "stream",
     "text": [
      " * Serving Flask app \"__main__\" (lazy loading)\n",
      " * Environment: production\n",
      "   WARNING: This is a development server. Do not use it in a production deployment.\n",
      "   Use a production WSGI server instead.\n",
      " * Debug mode: on\n"
     ]
    },
    {
     "name": "stderr",
     "output_type": "stream",
     "text": [
      " * Running on http://127.0.0.1:5000/ (Press CTRL+C to quit)\n",
      "127.0.0.1 - - [21/Oct/2019 10:26:21] \"GET / HTTP/1.1\" 200 -\n"
     ]
    }
   ],
   "source": [
    "#Load model from saved file and run the api\n",
    "if __name__ == '__main__':\n",
    "    # load the model from disk\n",
    "    filename = 'model/finalized_model.pkl'\n",
    "    model = pickle.load(open(filename, 'rb'))\n",
    "    #app.run(host='0.0.0.0', port=8000, debug=True)\n",
    "    app.run(debug=True, use_reloader=False)"
   ]
  },
  {
   "cell_type": "code",
   "execution_count": null,
   "metadata": {},
   "outputs": [],
   "source": []
  }
 ],
 "metadata": {
  "kernelspec": {
   "display_name": "Python 3",
   "language": "python",
   "name": "python3"
  },
  "language_info": {
   "codemirror_mode": {
    "name": "ipython",
    "version": 3
   },
   "file_extension": ".py",
   "mimetype": "text/x-python",
   "name": "python",
   "nbconvert_exporter": "python",
   "pygments_lexer": "ipython3",
   "version": "3.7.3"
  }
 },
 "nbformat": 4,
 "nbformat_minor": 2
}
